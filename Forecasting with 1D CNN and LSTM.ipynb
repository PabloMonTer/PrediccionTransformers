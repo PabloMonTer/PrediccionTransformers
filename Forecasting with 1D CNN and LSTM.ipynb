{
 "cells": [
  {
   "cell_type": "markdown",
   "metadata": {
    "id": "XS-wWjsfWlec"
   },
   "source": [
    "# Predicción de temperatura utilizando Transformers\n",
    "\n",
    "## Pablo Monzón Terrazas | A01562619\n",
    "\n",
    "Durante esta actividad se trabajará con el conjunto de datos de series temporales meteorológicas recopilados en la estación meteorológica del Instituto Max Planck de Biogeoquímica en Jena, Alemania.\n",
    "\n",
    "Se dará un enfoque en los datos desde 2009 hasta 2016 de temperatura. Nuestro objetivo es construir un modelo que utilice datos históricos recientes (correspondientes a unos pocos días) como entrada y prediga la temperatura del aire con 24 horas de anticipación.\n",
    "\n",
    "A continuación se da el paso de obtener y descomprimir los datos:"
   ]
  },
  {
   "cell_type": "code",
   "execution_count": 1,
   "metadata": {
    "colab": {
     "base_uri": "https://localhost:8080/"
    },
    "id": "5BwJA25KWlec",
    "outputId": "1a6df6d5-930e-405e-d651-26eba2469d06"
   },
   "outputs": [
    {
     "name": "stderr",
     "output_type": "stream",
     "text": [
      "--2025-04-22 23:54:30--  https://s3.amazonaws.com/keras-datasets/jena_climate_2009_2016.csv.zip\n",
      "Resolving s3.amazonaws.com (s3.amazonaws.com)... 52.216.51.72, 16.15.176.169, 16.182.32.200, ...\n",
      "Connecting to s3.amazonaws.com (s3.amazonaws.com)|52.216.51.72|:443... connected.\n",
      "HTTP request sent, awaiting response... 200 OK\n",
      "Length: 13565642 (13M) [application/zip]\n",
      "Saving to: ‘jena_climate_2009_2016.csv.zip’\n",
      "\n",
      "     0K .......... .......... .......... .......... ..........  0%  884K 15s\n",
      "    50K .......... .......... .......... .......... ..........  0%  890K 15s\n",
      "   100K .......... .......... .......... .......... ..........  1%  132M 10s\n",
      "   150K .......... .......... .......... .......... ..........  1%  888K 11s\n",
      "   200K .......... .......... .......... .......... ..........  1% 64.4M 9s\n",
      "   250K .......... .......... .......... .......... ..........  2%  124M 7s\n",
      "   300K .......... .......... .......... .......... ..........  2%  150M 6s\n",
      "   350K .......... .......... .......... .......... ..........  3%  925K 7s\n",
      "   400K .......... .......... .......... .......... ..........  3% 84.8M 6s\n",
      "   450K .......... .......... .......... .......... ..........  3% 70.6M 6s\n",
      "   500K .......... .......... .......... .......... ..........  4% 94.3M 5s\n",
      "   550K .......... .......... .......... .......... ..........  4%  142M 5s\n",
      "   600K .......... .......... .......... .......... ..........  4%  155M 4s\n",
      "   650K .......... .......... .......... .......... ..........  5%  141M 4s\n",
      "   700K .......... .......... .......... .......... ..........  5%  165M 4s\n",
      "   750K .......... .......... .......... .......... ..........  6%  940K 4s\n",
      "   800K .......... .......... .......... .......... ..........  6% 90.7M 4s\n",
      "   850K .......... .......... .......... .......... ..........  6% 95.1M 4s\n",
      "   900K .......... .......... .......... .......... ..........  7% 94.1M 4s\n",
      "   950K .......... .......... .......... .......... ..........  7% 61.6M 3s\n",
      "  1000K .......... .......... .......... .......... ..........  7%  131M 3s\n",
      "  1050K .......... .......... .......... .......... ..........  8%  146M 3s\n",
      "  1100K .......... .......... .......... .......... ..........  8%  160M 3s\n",
      "  1150K .......... .......... .......... .......... ..........  9%  143M 3s\n",
      "  1200K .......... .......... .......... .......... ..........  9%  155M 3s\n",
      "  1250K .......... .......... .......... .......... ..........  9%  194M 3s\n",
      "  1300K .......... .......... .......... .......... .......... 10%  194M 3s\n",
      "  1350K .......... .......... .......... .......... .......... 10%  191M 2s\n",
      "  1400K .......... .......... .......... .......... .......... 10%  169M 2s\n",
      "  1450K .......... .......... .......... .......... .......... 11%  195M 2s\n",
      "  1500K .......... .......... .......... .......... .......... 11%  175M 2s\n",
      "  1550K .......... .......... .......... .......... .......... 12%  993K 2s\n",
      "  1600K .......... .......... .......... .......... .......... 12% 87.5M 2s\n",
      "  1650K .......... .......... .......... .......... .......... 12%  125M 2s\n",
      "  1700K .......... .......... .......... .......... .......... 13%  125M 2s\n",
      "  1750K .......... .......... .......... .......... .......... 13%  133M 2s\n",
      "  1800K .......... .......... .......... .......... .......... 13% 79.6M 2s\n",
      "  1850K .......... .......... .......... .......... .......... 14% 89.0M 2s\n",
      "  1900K .......... .......... .......... .......... .......... 14%  194M 2s\n",
      "  1950K .......... .......... .......... .......... .......... 15% 75.9M 2s\n",
      "  2000K .......... .......... .......... .......... .......... 15%  185M 2s\n",
      "  2050K .......... .......... .......... .......... .......... 15%  101M 2s\n",
      "  2100K .......... .......... .......... .......... .......... 16%  197M 2s\n",
      "  2150K .......... .......... .......... .......... .......... 16%  195M 2s\n",
      "  2200K .......... .......... .......... .......... .......... 16%  160M 2s\n",
      "  2250K .......... .......... .......... .......... .......... 17%  178M 2s\n",
      "  2300K .......... .......... .......... .......... .......... 17%  191M 2s\n",
      "  2350K .......... .......... .......... .......... .......... 18%  210M 2s\n",
      "  2400K .......... .......... .......... .......... .......... 18%  185M 2s\n",
      "  2450K .......... .......... .......... .......... .......... 18%  202M 1s\n",
      "  2500K .......... .......... .......... .......... .......... 19%  220M 1s\n",
      "  2550K .......... .......... .......... .......... .......... 19%  194M 1s\n",
      "  2600K .......... .......... .......... .......... .......... 20%  170M 1s\n",
      "  2650K .......... .......... .......... .......... .......... 20%  195M 1s\n",
      "  2700K .......... .......... .......... .......... .......... 20%  209M 1s\n",
      "  2750K .......... .......... .......... .......... .......... 21%  211M 1s\n",
      "  2800K .......... .......... .......... .......... .......... 21%  180M 1s\n",
      "  2850K .......... .......... .......... .......... .......... 21%  188M 1s\n",
      "  2900K .......... .......... .......... .......... .......... 22%  197M 1s\n",
      "  2950K .......... .......... .......... .......... .......... 22%  212M 1s\n",
      "  3000K .......... .......... .......... .......... .......... 23%  170M 1s\n",
      "  3050K .......... .......... .......... .......... .......... 23%  188M 1s\n",
      "  3100K .......... .......... .......... .......... .......... 23%  211M 1s\n",
      "  3150K .......... .......... .......... .......... .......... 24% 1.06M 1s\n",
      "  3200K .......... .......... .......... .......... .......... 24% 96.3M 1s\n",
      "  3250K .......... .......... .......... .......... .......... 24%  131M 1s\n",
      "  3300K .......... .......... .......... .......... .......... 25%  218M 1s\n",
      "  3350K .......... .......... .......... .......... .......... 25%  208M 1s\n",
      "  3400K .......... .......... .......... .......... .......... 26% 72.9M 1s\n",
      "  3450K .......... .......... .......... .......... .......... 26%  195M 1s\n",
      "  3500K .......... .......... .......... .......... .......... 26%  178M 1s\n",
      "  3550K .......... .......... .......... .......... .......... 27%  184M 1s\n",
      "  3600K .......... .......... .......... .......... .......... 27%  198M 1s\n",
      "  3650K .......... .......... .......... .......... .......... 27%  188M 1s\n",
      "  3700K .......... .......... .......... .......... .......... 28%  203M 1s\n",
      "  3750K .......... .......... .......... .......... .......... 28%  210M 1s\n",
      "  3800K .......... .......... .......... .......... .......... 29%  162M 1s\n",
      "  3850K .......... .......... .......... .......... .......... 29%  195M 1s\n",
      "  3900K .......... .......... .......... .......... .......... 29%  217M 1s\n",
      "  3950K .......... .......... .......... .......... .......... 30%  199M 1s\n",
      "  4000K .......... .......... .......... .......... .......... 30%  160M 1s\n",
      "  4050K .......... .......... .......... .......... .......... 30%  186M 1s\n",
      "  4100K .......... .......... .......... .......... .......... 31%  220M 1s\n",
      "  4150K .......... .......... .......... .......... .......... 31%  214M 1s\n",
      "  4200K .......... .......... .......... .......... .......... 32%  168M 1s\n",
      "  4250K .......... .......... .......... .......... .......... 32%  213M 1s\n",
      "  4300K .......... .......... .......... .......... .......... 32%  202M 1s\n",
      "  4350K .......... .......... .......... .......... .......... 33%  231M 1s\n",
      "  4400K .......... .......... .......... .......... .......... 33%  211M 1s\n",
      "  4450K .......... .......... .......... .......... .......... 33%  233M 1s\n",
      "  4500K .......... .......... .......... .......... .......... 34%  210M 1s\n",
      "  4550K .......... .......... .......... .......... .......... 34%  234M 1s\n",
      "  4600K .......... .......... .......... .......... .......... 35%  192M 1s\n",
      "  4650K .......... .......... .......... .......... .......... 35%  241M 1s\n",
      "  4700K .......... .......... .......... .......... .......... 35%  207M 1s\n",
      "  4750K .......... .......... .......... .......... .......... 36%  171M 1s\n",
      "  4800K .......... .......... .......... .......... .......... 36%  159M 1s\n",
      "  4850K .......... .......... .......... .......... .......... 36%  182M 1s\n",
      "  4900K .......... .......... .......... .......... .......... 37%  170M 1s\n",
      "  4950K .......... .......... .......... .......... .......... 37%  195M 1s\n",
      "  5000K .......... .......... .......... .......... .......... 38%  169M 1s\n",
      "  5050K .......... .......... .......... .......... .......... 38%  177M 1s\n",
      "  5100K .......... .......... .......... .......... .......... 38%  187M 1s\n",
      "  5150K .......... .......... .......... .......... .......... 39%  193M 1s\n",
      "  5200K .......... .......... .......... .......... .......... 39%  174M 1s\n",
      "  5250K .......... .......... .......... .......... .......... 40%  174M 1s\n",
      "  5300K .......... .......... .......... .......... .......... 40%  184M 1s\n",
      "  5350K .......... .......... .......... .......... .......... 40%  218M 1s\n",
      "  5400K .......... .......... .......... .......... .......... 41%  192M 1s\n",
      "  5450K .......... .......... .......... .......... .......... 41%  207M 1s\n",
      "  5500K .......... .......... .......... .......... .......... 41%  200M 1s\n",
      "  5550K .......... .......... .......... .......... .......... 42%  187M 1s\n",
      "  5600K .......... .......... .......... .......... .......... 42%  163M 1s\n",
      "  5650K .......... .......... .......... .......... .......... 43%  158M 1s\n",
      "  5700K .......... .......... .......... .......... .......... 43%  207M 1s\n",
      "  5750K .......... .......... .......... .......... .......... 43%  234M 1s\n",
      "  5800K .......... .......... .......... .......... .......... 44%  196M 1s\n",
      "  5850K .......... .......... .......... .......... .......... 44%  210M 1s\n",
      "  5900K .......... .......... .......... .......... .......... 44%  229M 1s\n",
      "  5950K .......... .......... .......... .......... .......... 45%  229M 0s\n",
      "  6000K .......... .......... .......... .......... .......... 45%  196M 0s\n",
      "  6050K .......... .......... .......... .......... .......... 46%  214M 0s\n",
      "  6100K .......... .......... .......... .......... .......... 46%  224M 0s\n",
      "  6150K .......... .......... .......... .......... .......... 46%  173M 0s\n",
      "  6200K .......... .......... .......... .......... .......... 47%  141M 0s\n",
      "  6250K .......... .......... .......... .......... .......... 47%  172M 0s\n",
      "  6300K .......... .......... .......... .......... .......... 47%  178M 0s\n",
      "  6350K .......... .......... .......... .......... .......... 48% 1.24M 0s\n",
      "  6400K .......... .......... .......... .......... .......... 48% 82.3M 0s\n",
      "  6450K .......... .......... .......... .......... .......... 49% 43.1M 0s\n",
      "  6500K .......... .......... .......... .......... .......... 49%  153M 0s\n",
      "  6550K .......... .......... .......... .......... .......... 49%  208M 0s\n",
      "  6600K .......... .......... .......... .......... .......... 50%  173M 0s\n",
      "  6650K .......... .......... .......... .......... .......... 50%  230M 0s\n",
      "  6700K .......... .......... .......... .......... .......... 50%  220M 0s\n",
      "  6750K .......... .......... .......... .......... .......... 51%  200M 0s\n",
      "  6800K .......... .......... .......... .......... .......... 51% 19.6M 0s\n",
      "  6850K .......... .......... .......... .......... .......... 52%  110M 0s\n",
      "  6900K .......... .......... .......... .......... .......... 52%  113M 0s\n",
      "  6950K .......... .......... .......... .......... .......... 52% 6.57M 0s\n",
      "  7000K .......... .......... .......... .......... .......... 53%  191M 0s\n",
      "  7050K .......... .......... .......... .......... .......... 53%  202M 0s\n",
      "  7100K .......... .......... .......... .......... .......... 53%  229M 0s\n",
      "  7150K .......... .......... .......... .......... .......... 54%  212M 0s\n",
      "  7200K .......... .......... .......... .......... .......... 54%  136M 0s\n",
      "  7250K .......... .......... .......... .......... .......... 55%  169M 0s\n",
      "  7300K .......... .......... .......... .......... .......... 55%  171M 0s\n",
      "  7350K .......... .......... .......... .......... .......... 55%  179M 0s\n",
      "  7400K .......... .......... .......... .......... .......... 56% 7.33M 0s\n",
      "  7450K .......... .......... .......... .......... .......... 56%  170M 0s\n",
      "  7500K .......... .......... .......... .......... .......... 56%  189M 0s\n",
      "  7550K .......... .......... .......... .......... .......... 57%  205M 0s\n",
      "  7600K .......... .......... .......... .......... .......... 57%  188M 0s\n",
      "  7650K .......... .......... .......... .......... .......... 58%  204M 0s\n",
      "  7700K .......... .......... .......... .......... .......... 58%  184M 0s\n",
      "  7750K .......... .......... .......... .......... .......... 58%  203M 0s\n",
      "  7800K .......... .......... .......... .......... .......... 59%  168M 0s\n",
      "  7850K .......... .......... .......... .......... .......... 59%  197M 0s\n",
      "  7900K .......... .......... .......... .......... .......... 60% 14.0M 0s\n",
      "  7950K .......... .......... .......... .......... .......... 60%  199M 0s\n",
      "  8000K .......... .......... .......... .......... .......... 60%  173M 0s\n",
      "  8050K .......... .......... .......... .......... .......... 61% 85.8M 0s\n",
      "  8100K .......... .......... .......... .......... .......... 61% 96.7M 0s\n",
      "  8150K .......... .......... .......... .......... .......... 61% 77.9M 0s\n",
      "  8200K .......... .......... .......... .......... .......... 62% 81.7M 0s\n",
      "  8250K .......... .......... .......... .......... .......... 62%  120M 0s\n",
      "  8300K .......... .......... .......... .......... .......... 63%  119M 0s\n",
      "  8350K .......... .......... .......... .......... .......... 63%  121M 0s\n",
      "  8400K .......... .......... .......... .......... .......... 63%  124M 0s\n",
      "  8450K .......... .......... .......... .......... .......... 64% 87.8M 0s\n",
      "  8500K .......... .......... .......... .......... .......... 64%  145M 0s\n",
      "  8550K .......... .......... .......... .......... .......... 64%  195M 0s\n",
      "  8600K .......... .......... .......... .......... .......... 65%  141M 0s\n",
      "  8650K .......... .......... .......... .......... .......... 65%  215M 0s\n",
      "  8700K .......... .......... .......... .......... .......... 66%  120M 0s\n",
      "  8750K .......... .......... .......... .......... .......... 66% 77.3M 0s\n",
      "  8800K .......... .......... .......... .......... .......... 66% 75.1M 0s\n",
      "  8850K .......... .......... .......... .......... .......... 67%  114M 0s\n",
      "  8900K .......... .......... .......... .......... .......... 67%  100M 0s\n",
      "  8950K .......... .......... .......... .......... .......... 67%  116M 0s\n",
      "  9000K .......... .......... .......... .......... .......... 68% 72.6M 0s\n",
      "  9050K .......... .......... .......... .......... .......... 68% 82.1M 0s\n",
      "  9100K .......... .......... .......... .......... .......... 69%  140M 0s\n",
      "  9150K .......... .......... .......... .......... .......... 69%  200M 0s\n",
      "  9200K .......... .......... .......... .......... .......... 69%  175M 0s\n",
      "  9250K .......... .......... .......... .......... .......... 70% 2.91M 0s\n",
      "  9300K .......... .......... .......... .......... .......... 70%  182M 0s\n",
      "  9350K .......... .......... .......... .......... .......... 70%  161M 0s\n",
      "  9400K .......... .......... .......... .......... .......... 71%  135M 0s\n",
      "  9450K .......... .......... .......... .......... .......... 71% 29.2M 0s\n",
      "  9500K .......... .......... .......... .......... .......... 72% 56.3M 0s\n",
      "  9550K .......... .......... .......... .......... .......... 72% 98.5M 0s\n",
      "  9600K .......... .......... .......... .......... .......... 72%  166M 0s\n",
      "  9650K .......... .......... .......... .......... .......... 73% 99.0M 0s\n",
      "  9700K .......... .......... .......... .......... .......... 73% 84.4M 0s\n",
      "  9750K .......... .......... .......... .......... .......... 73%  189M 0s\n",
      "  9800K .......... .......... .......... .......... .......... 74%  109M 0s\n",
      "  9850K .......... .......... .......... .......... .......... 74%  202M 0s\n",
      "  9900K .......... .......... .......... .......... .......... 75% 76.9M 0s\n",
      "  9950K .......... .......... .......... .......... .......... 75%  219M 0s\n",
      " 10000K .......... .......... .......... .......... .......... 75% 85.1M 0s\n",
      " 10050K .......... .......... .......... .......... .......... 76%  201M 0s\n",
      " 10100K .......... .......... .......... .......... .......... 76%  217M 0s\n",
      " 10150K .......... .......... .......... .......... .......... 76%  226M 0s\n",
      " 10200K .......... .......... .......... .......... .......... 77%  173M 0s\n",
      " 10250K .......... .......... .......... .......... .......... 77%  192M 0s\n",
      " 10300K .......... .......... .......... .......... .......... 78%  191M 0s\n",
      " 10350K .......... .......... .......... .......... .......... 78%  173M 0s\n",
      " 10400K .......... .......... .......... .......... .......... 78%  142M 0s\n",
      " 10450K .......... .......... .......... .......... .......... 79%  200M 0s\n",
      " 10500K .......... .......... .......... .......... .......... 79%  183M 0s\n",
      " 10550K .......... .......... .......... .......... .......... 80%  180M 0s\n",
      " 10600K .......... .......... .......... .......... .......... 80%  174M 0s\n",
      " 10650K .......... .......... .......... .......... .......... 80%  203M 0s\n",
      " 10700K .......... .......... .......... .......... .......... 81%  200M 0s\n",
      " 10750K .......... .......... .......... .......... .......... 81%  182M 0s\n",
      " 10800K .......... .......... .......... .......... .......... 81%  187M 0s\n",
      " 10850K .......... .......... .......... .......... .......... 82%  191M 0s\n",
      " 10900K .......... .......... .......... .......... .......... 82%  186M 0s\n",
      " 10950K .......... .......... .......... .......... .......... 83%  172M 0s\n",
      " 11000K .......... .......... .......... .......... .......... 83%  167M 0s\n",
      " 11050K .......... .......... .......... .......... .......... 83%  183M 0s\n",
      " 11100K .......... .......... .......... .......... .......... 84%  142M 0s\n",
      " 11150K .......... .......... .......... .......... .......... 84%  170M 0s\n",
      " 11200K .......... .......... .......... .......... .......... 84%  137M 0s\n",
      " 11250K .......... .......... .......... .......... .......... 85%  229M 0s\n",
      " 11300K .......... .......... .......... .......... .......... 85%  184M 0s\n",
      " 11350K .......... .......... .......... .......... .......... 86%  190M 0s\n",
      " 11400K .......... .......... .......... .......... .......... 86% 1.98M 0s\n",
      " 11450K .......... .......... .......... .......... .......... 86% 71.3M 0s\n",
      " 11500K .......... .......... .......... .......... .......... 87% 96.2M 0s\n",
      " 11550K .......... .......... .......... .......... .......... 87%  115M 0s\n",
      " 11600K .......... .......... .......... .......... .......... 87% 91.9M 0s\n",
      " 11650K .......... .......... .......... .......... .......... 88%  199M 0s\n",
      " 11700K .......... .......... .......... .......... .......... 88% 78.0M 0s\n",
      " 11750K .......... .......... .......... .......... .......... 89%  203M 0s\n",
      " 11800K .......... .......... .......... .......... .......... 89%  173M 0s\n",
      " 11850K .......... .......... .......... .......... .......... 89% 54.8M 0s\n",
      " 11900K .......... .......... .......... .......... .......... 90%  185M 0s\n",
      " 11950K .......... .......... .......... .......... .......... 90%  174M 0s\n",
      " 12000K .......... .......... .......... .......... .......... 90%  155M 0s\n",
      " 12050K .......... .......... .......... .......... .......... 91%  190M 0s\n",
      " 12100K .......... .......... .......... .......... .......... 91%  183M 0s\n",
      " 12150K .......... .......... .......... .......... .......... 92%  194M 0s\n",
      " 12200K .......... .......... .......... .......... .......... 92%  177M 0s\n",
      " 12250K .......... .......... .......... .......... .......... 92%  189M 0s\n",
      " 12300K .......... .......... .......... .......... .......... 93%  199M 0s\n",
      " 12350K .......... .......... .......... .......... .......... 93%  142M 0s\n",
      " 12400K .......... .......... .......... .......... .......... 93%  113M 0s\n",
      " 12450K .......... .......... .......... .......... .......... 94%  210M 0s\n",
      " 12500K .......... .......... .......... .......... .......... 94% 75.8M 0s\n",
      " 12550K .......... .......... .......... .......... .......... 95%  214M 0s\n",
      " 12600K .......... .......... .......... .......... .......... 95%  158M 0s\n",
      " 12650K .......... .......... .......... .......... .......... 95%  102M 0s\n",
      " 12700K .......... .......... .......... .......... .......... 96%  159M 0s\n",
      " 12750K .......... .......... .......... .......... .......... 96%  178M 0s\n",
      " 12800K .......... .......... .......... .......... .......... 96%  179M 0s\n",
      " 12850K .......... .......... .......... .......... .......... 97%  199M 0s\n",
      " 12900K .......... .......... .......... .......... .......... 97%  183M 0s\n",
      " 12950K .......... .......... .......... .......... .......... 98% 68.9M 0s\n",
      " 13000K .......... .......... .......... .......... .......... 98% 35.9M 0s\n",
      " 13050K .......... .......... .......... .......... .......... 98%  163M 0s\n",
      " 13100K .......... .......... .......... .......... .......... 99%  195M 0s\n",
      " 13150K .......... .......... .......... .......... .......... 99%  190M 0s\n",
      " 13200K .......... .......... .......... .......... .......   100%  166M=0.6s\n",
      "\n",
      "2025-04-22 23:54:31 (23.1 MB/s) - ‘jena_climate_2009_2016.csv.zip’ saved [13565642/13565642]\n",
      "\n"
     ]
    },
    {
     "name": "stdout",
     "output_type": "stream",
     "text": [
      "Archive:  jena_climate_2009_2016.csv.zip\n",
      "  inflating: jena_climate_2009_2016.csv  \n",
      "  inflating: __MACOSX/._jena_climate_2009_2016.csv  \n"
     ]
    }
   ],
   "source": [
    "%%bash\n",
    "mkdir jena_climate\n",
    "cd jena_climate\n",
    "wget https://s3.amazonaws.com/keras-datasets/jena_climate_2009_2016.csv.zip\n",
    "unzip jena_climate_2009_2016.csv.zip"
   ]
  },
  {
   "cell_type": "markdown",
   "metadata": {
    "id": "dSx_YccHWled"
   },
   "source": [
    "Se importan las librerías necesarias"
   ]
  },
  {
   "cell_type": "code",
   "execution_count": 1,
   "metadata": {
    "id": "6W8aBhMJZ5lE"
   },
   "outputs": [
    {
     "name": "stderr",
     "output_type": "stream",
     "text": [
      "2025-04-23 02:34:49.789895: I external/local_xla/xla/tsl/cuda/cudart_stub.cc:32] Could not find cuda drivers on your machine, GPU will not be used.\n",
      "2025-04-23 02:34:49.797573: I external/local_xla/xla/tsl/cuda/cudart_stub.cc:32] Could not find cuda drivers on your machine, GPU will not be used.\n",
      "2025-04-23 02:34:49.813537: E external/local_xla/xla/stream_executor/cuda/cuda_fft.cc:467] Unable to register cuFFT factory: Attempting to register factory for plugin cuFFT when one has already been registered\n",
      "WARNING: All log messages before absl::InitializeLog() is called are written to STDERR\n",
      "E0000 00:00:1745375689.841212    3790 cuda_dnn.cc:8579] Unable to register cuDNN factory: Attempting to register factory for plugin cuDNN when one has already been registered\n",
      "E0000 00:00:1745375689.848750    3790 cuda_blas.cc:1407] Unable to register cuBLAS factory: Attempting to register factory for plugin cuBLAS when one has already been registered\n",
      "W0000 00:00:1745375689.872865    3790 computation_placer.cc:177] computation placer already registered. Please check linkage and avoid linking the same target more than once.\n",
      "W0000 00:00:1745375689.872894    3790 computation_placer.cc:177] computation placer already registered. Please check linkage and avoid linking the same target more than once.\n",
      "W0000 00:00:1745375689.872897    3790 computation_placer.cc:177] computation placer already registered. Please check linkage and avoid linking the same target more than once.\n",
      "W0000 00:00:1745375689.872898    3790 computation_placer.cc:177] computation placer already registered. Please check linkage and avoid linking the same target more than once.\n",
      "2025-04-23 02:34:49.877529: I tensorflow/core/platform/cpu_feature_guard.cc:210] This TensorFlow binary is optimized to use available CPU instructions in performance-critical operations.\n",
      "To enable the following instructions: AVX2 FMA, in other operations, rebuild TensorFlow with the appropriate compiler flags.\n"
     ]
    }
   ],
   "source": [
    "import os\n",
    "import numpy as np\n",
    "import matplotlib.pyplot as plt\n",
    "\n",
    "from matplotlib import pyplot as plt\n",
    "from tensorflow import keras\n",
    "from tensorflow.keras import layers"
   ]
  },
  {
   "cell_type": "markdown",
   "metadata": {
    "id": "Ra6c0_-HZ5lE"
   },
   "source": [
    "A continuación se abre el archivo tipo `csv`, se almacenan los datos en la variable data, y se imprime el nombre de las variables así como la cantidad de datos. "
   ]
  },
  {
   "cell_type": "code",
   "execution_count": 2,
   "metadata": {
    "colab": {
     "base_uri": "https://localhost:8080/"
    },
    "id": "LB7vqC3SWled",
    "outputId": "557e562a-8bdb-40ad-c62d-897d153c9826"
   },
   "outputs": [
    {
     "name": "stdout",
     "output_type": "stream",
     "text": [
      "['\"Date Time\"', '\"p (mbar)\"', '\"T (degC)\"', '\"Tpot (K)\"', '\"Tdew (degC)\"', '\"rh (%)\"', '\"VPmax (mbar)\"', '\"VPact (mbar)\"', '\"VPdef (mbar)\"', '\"sh (g/kg)\"', '\"H2OC (mmol/mol)\"', '\"rho (g/m**3)\"', '\"wv (m/s)\"', '\"max. wv (m/s)\"', '\"wd (deg)\"']\n",
      "420451\n"
     ]
    }
   ],
   "source": [
    "data_dir = '/workspaces/PrediccionTransformers/jena_climate'\n",
    "fname = os.path.join(data_dir, \"jena_climate_2009_2016.csv\")\n",
    "\n",
    "with open(fname) as f:\n",
    "    data = f.read()\n",
    "\n",
    "lines = data.split(\"\\n\")\n",
    "header = lines[0].split(\",\")\n",
    "lines = lines[1:]\n",
    "print(header)\n",
    "print(len(lines))"
   ]
  },
  {
   "cell_type": "markdown",
   "metadata": {
    "id": "N5ASAQEFZ5lF"
   },
   "source": [
    "Se esta trabajando con 14 variables y con 420,451 registros. A continuación, se crearán dos arreglos de tipo `NumPy`:uno para la variable de temperatura (`temperature`), y el otro para los demás datos (`raw_data`).  "
   ]
  },
  {
   "cell_type": "code",
   "execution_count": 3,
   "metadata": {},
   "outputs": [],
   "source": [
    "temperature = np.zeros((len(lines),))\n",
    "raw_data = np.zeros((len(lines), len(header) - 1))\n",
    "for i, line in enumerate(lines):\n",
    "    values = [float(x) for x in line.split(\",\")[1:]]\n",
    "    temperature[i] = values[1]\n",
    "    raw_data[i, :] = values[:]"
   ]
  },
  {
   "cell_type": "markdown",
   "metadata": {
    "id": "0X04lh2GWlee"
   },
   "source": [
    "Se hace una visualización de la temperatura a través del tiempo, donde claramente se puede ver una periodicidad en los datos."
   ]
  },
  {
   "cell_type": "code",
   "execution_count": 4,
   "metadata": {
    "colab": {
     "base_uri": "https://localhost:8080/",
     "height": 451
    },
    "id": "y2ewHkpyWlee",
    "outputId": "f0c682ee-a84a-4531-dd90-0f90bc7bd3d8"
   },
   "outputs": [
    {
     "data": {
      "text/plain": [
       "[<matplotlib.lines.Line2D at 0x70bbdd132750>]"
      ]
     },
     "execution_count": 4,
     "metadata": {},
     "output_type": "execute_result"
    },
    {
     "data": {
      "image/png": "[encoded data removed]",
      "text/plain": [
       "<Figure size 640x480 with 1 Axes>"
      ]
     },
     "metadata": {},
     "output_type": "display_data"
    }
   ],
   "source": [
    "plt.plot(range(len(temperature)), temperature)"
   ]
  },
  {
   "cell_type": "markdown",
   "metadata": {
    "id": "XOoizdpSWlef"
   },
   "source": [
    "## Preparación de los datos\n",
    "\n",
    "Como primer paso se hace la normalización de los datos para que no exista un problema en la escala de las unidades de la temperatura"
   ]
  },
  {
   "cell_type": "code",
   "execution_count": 5,
   "metadata": {
    "id": "EXq06b7QWlef"
   },
   "outputs": [],
   "source": [
    "mean = raw_data[: 200000].mean(axis=0)\n",
    "raw_data -= mean\n",
    "std = raw_data[: 200000].std(axis=0)\n",
    "raw_data /= std"
   ]
  },
  {
   "cell_type": "markdown",
   "metadata": {},
   "source": [
    "## Ventanas de tiempo\n",
    "\n",
    "A continuación se crean las ventanas de tiempo donde se mira al pasado 24 horas antes, así como una predicción de las siguientes 24 horas tomando una hora entre muestras."
   ]
  },
  {
   "cell_type": "code",
   "execution_count": 6,
   "metadata": {},
   "outputs": [],
   "source": [
    "past = 144        # 24h de historial\n",
    "delay = 144       # predecir 24h adelante\n",
    "step = 6          # 1 hora entre muestras\n",
    "\n",
    "def create_sequences(data, target, past, delay, step):\n",
    "    xs, ys = [], []\n",
    "    for i in range(past, len(data) - delay):\n",
    "        x = data[i - past:i:step]\n",
    "        y = target[i + delay]\n",
    "        xs.append(x)\n",
    "        ys.append(y)\n",
    "    return np.array(xs), np.array(ys)\n",
    "\n",
    "x, y = create_sequences(raw_data, temperature, past, delay, step)"
   ]
  },
  {
   "cell_type": "markdown",
   "metadata": {},
   "source": [
    "## Entrenamiento y prueba\n",
    "A continuación se hace una división de los datos en entrenamiento y prueba con una proporción de 80-20"
   ]
  },
  {
   "cell_type": "code",
   "execution_count": 7,
   "metadata": {},
   "outputs": [],
   "source": [
    "split = int(0.8 * len(x))\n",
    "x_train, x_test = x[:split], x[split:]\n",
    "y_train, y_test = y[:split], y[split:]"
   ]
  },
  {
   "cell_type": "markdown",
   "metadata": {},
   "source": [
    "Se hace la permutación sugerida en el ejemplo de Keras para transformers"
   ]
  },
  {
   "cell_type": "code",
   "execution_count": 8,
   "metadata": {},
   "outputs": [],
   "source": [
    "idx = np.random.permutation(len(x_train))\n",
    "x_train = x_train[idx]\n",
    "y_train = y_train[idx]"
   ]
  },
  {
   "cell_type": "markdown",
   "metadata": {},
   "source": [
    "Se realiza la creación del modelo transformer para tener una salida tipo regresión"
   ]
  },
  {
   "cell_type": "code",
   "execution_count": 9,
   "metadata": {},
   "outputs": [],
   "source": [
    "def transformer_encoder(inputs, head_size, num_heads, ff_dim, dropout=0):\n",
    "    x = layers.MultiHeadAttention(\n",
    "        key_dim=head_size, num_heads=num_heads, dropout=dropout\n",
    "    )(inputs, inputs)\n",
    "    x = layers.Dropout(dropout)(x)\n",
    "    x = layers.LayerNormalization(epsilon=1e-6)(x)\n",
    "    res = x + inputs\n",
    "\n",
    "    x = layers.Conv1D(filters=ff_dim, kernel_size=1, activation=\"relu\")(res)\n",
    "    x = layers.Dropout(dropout)(x)\n",
    "    x = layers.Conv1D(filters=inputs.shape[-1], kernel_size=1)(x)\n",
    "    x = layers.LayerNormalization(epsilon=1e-6)(x)\n",
    "    return x + res\n",
    "\n",
    "def build_model(input_shape, head_size=128, num_heads=4, ff_dim=128, num_blocks=2, mlp_units=[64], dropout=0.1, mlp_dropout=0.3):\n",
    "    inputs = keras.Input(shape=input_shape)\n",
    "    x = inputs\n",
    "    for _ in range(num_blocks):\n",
    "        x = transformer_encoder(x, head_size, num_heads, ff_dim, dropout)\n",
    "    x = layers.GlobalAveragePooling1D()(x)\n",
    "    for units in mlp_units:\n",
    "        x = layers.Dense(units, activation=\"relu\")(x)\n",
    "        x = layers.Dropout(mlp_dropout)(x)\n",
    "    outputs = layers.Dense(1)(x) \n",
    "    return keras.Model(inputs, outputs)"
   ]
  },
  {
   "cell_type": "markdown",
   "metadata": {},
   "source": [
    "Se realiza el entrenamiento, así como la evaluación del modelo construido"
   ]
  },
  {
   "cell_type": "code",
   "execution_count": 11,
   "metadata": {},
   "outputs": [
    {
     "data": {
      "text/html": [
       "<pre style=\"white-space:pre;overflow-x:auto;line-height:normal;font-family:Menlo,'DejaVu Sans Mono',consolas,'Courier New',monospace\"><span style=\"font-weight: bold\">Model: \"functional_1\"</span>\n",
       "</pre>\n"
      ],
      "text/plain": [
       "\u001b[1mModel: \"functional_1\"\u001b[0m\n"
      ]
     },
     "metadata": {},
     "output_type": "display_data"
    },
    {
     "data": {
      "text/html": [
       "<pre style=\"white-space:pre;overflow-x:auto;line-height:normal;font-family:Menlo,'DejaVu Sans Mono',consolas,'Courier New',monospace\">┏━━━━━━━━━━━━━━━━━━━━━┳━━━━━━━━━━━━━━━━━━━┳━━━━━━━━━━━━┳━━━━━━━━━━━━━━━━━━━┓\n",
       "┃<span style=\"font-weight: bold\"> Layer (type)        </span>┃<span style=\"font-weight: bold\"> Output Shape      </span>┃<span style=\"font-weight: bold\">    Param # </span>┃<span style=\"font-weight: bold\"> Connected to      </span>┃\n",
       "┡━━━━━━━━━━━━━━━━━━━━━╇━━━━━━━━━━━━━━━━━━━╇━━━━━━━━━━━━╇━━━━━━━━━━━━━━━━━━━┩\n",
       "│ input_layer_1       │ (<span style=\"color: #00d7ff; text-decoration-color: #00d7ff\">None</span>, <span style=\"color: #00af00; text-decoration-color: #00af00\">24</span>, <span style=\"color: #00af00; text-decoration-color: #00af00\">14</span>)    │          <span style=\"color: #00af00; text-decoration-color: #00af00\">0</span> │ -                 │\n",
       "│ (<span style=\"color: #0087ff; text-decoration-color: #0087ff\">InputLayer</span>)        │                   │            │                   │\n",
       "├─────────────────────┼───────────────────┼────────────┼───────────────────┤\n",
       "│ multi_head_attenti… │ (<span style=\"color: #00d7ff; text-decoration-color: #00d7ff\">None</span>, <span style=\"color: #00af00; text-decoration-color: #00af00\">24</span>, <span style=\"color: #00af00; text-decoration-color: #00af00\">14</span>)    │     <span style=\"color: #00af00; text-decoration-color: #00af00\">30,222</span> │ input_layer_1[<span style=\"color: #00af00; text-decoration-color: #00af00\">0</span>]… │\n",
       "│ (<span style=\"color: #0087ff; text-decoration-color: #0087ff\">MultiHeadAttentio…</span> │                   │            │ input_layer_1[<span style=\"color: #00af00; text-decoration-color: #00af00\">0</span>]… │\n",
       "├─────────────────────┼───────────────────┼────────────┼───────────────────┤\n",
       "│ dropout_8 (<span style=\"color: #0087ff; text-decoration-color: #0087ff\">Dropout</span>) │ (<span style=\"color: #00d7ff; text-decoration-color: #00d7ff\">None</span>, <span style=\"color: #00af00; text-decoration-color: #00af00\">24</span>, <span style=\"color: #00af00; text-decoration-color: #00af00\">14</span>)    │          <span style=\"color: #00af00; text-decoration-color: #00af00\">0</span> │ multi_head_atten… │\n",
       "├─────────────────────┼───────────────────┼────────────┼───────────────────┤\n",
       "│ layer_normalizatio… │ (<span style=\"color: #00d7ff; text-decoration-color: #00d7ff\">None</span>, <span style=\"color: #00af00; text-decoration-color: #00af00\">24</span>, <span style=\"color: #00af00; text-decoration-color: #00af00\">14</span>)    │         <span style=\"color: #00af00; text-decoration-color: #00af00\">28</span> │ dropout_8[<span style=\"color: #00af00; text-decoration-color: #00af00\">0</span>][<span style=\"color: #00af00; text-decoration-color: #00af00\">0</span>]   │\n",
       "│ (<span style=\"color: #0087ff; text-decoration-color: #0087ff\">LayerNormalizatio…</span> │                   │            │                   │\n",
       "├─────────────────────┼───────────────────┼────────────┼───────────────────┤\n",
       "│ add_4 (<span style=\"color: #0087ff; text-decoration-color: #0087ff\">Add</span>)         │ (<span style=\"color: #00d7ff; text-decoration-color: #00d7ff\">None</span>, <span style=\"color: #00af00; text-decoration-color: #00af00\">24</span>, <span style=\"color: #00af00; text-decoration-color: #00af00\">14</span>)    │          <span style=\"color: #00af00; text-decoration-color: #00af00\">0</span> │ layer_normalizat… │\n",
       "│                     │                   │            │ input_layer_1[<span style=\"color: #00af00; text-decoration-color: #00af00\">0</span>]… │\n",
       "├─────────────────────┼───────────────────┼────────────┼───────────────────┤\n",
       "│ conv1d_4 (<span style=\"color: #0087ff; text-decoration-color: #0087ff\">Conv1D</span>)   │ (<span style=\"color: #00d7ff; text-decoration-color: #00d7ff\">None</span>, <span style=\"color: #00af00; text-decoration-color: #00af00\">24</span>, <span style=\"color: #00af00; text-decoration-color: #00af00\">128</span>)   │      <span style=\"color: #00af00; text-decoration-color: #00af00\">1,920</span> │ add_4[<span style=\"color: #00af00; text-decoration-color: #00af00\">0</span>][<span style=\"color: #00af00; text-decoration-color: #00af00\">0</span>]       │\n",
       "├─────────────────────┼───────────────────┼────────────┼───────────────────┤\n",
       "│ dropout_9 (<span style=\"color: #0087ff; text-decoration-color: #0087ff\">Dropout</span>) │ (<span style=\"color: #00d7ff; text-decoration-color: #00d7ff\">None</span>, <span style=\"color: #00af00; text-decoration-color: #00af00\">24</span>, <span style=\"color: #00af00; text-decoration-color: #00af00\">128</span>)   │          <span style=\"color: #00af00; text-decoration-color: #00af00\">0</span> │ conv1d_4[<span style=\"color: #00af00; text-decoration-color: #00af00\">0</span>][<span style=\"color: #00af00; text-decoration-color: #00af00\">0</span>]    │\n",
       "├─────────────────────┼───────────────────┼────────────┼───────────────────┤\n",
       "│ conv1d_5 (<span style=\"color: #0087ff; text-decoration-color: #0087ff\">Conv1D</span>)   │ (<span style=\"color: #00d7ff; text-decoration-color: #00d7ff\">None</span>, <span style=\"color: #00af00; text-decoration-color: #00af00\">24</span>, <span style=\"color: #00af00; text-decoration-color: #00af00\">14</span>)    │      <span style=\"color: #00af00; text-decoration-color: #00af00\">1,806</span> │ dropout_9[<span style=\"color: #00af00; text-decoration-color: #00af00\">0</span>][<span style=\"color: #00af00; text-decoration-color: #00af00\">0</span>]   │\n",
       "├─────────────────────┼───────────────────┼────────────┼───────────────────┤\n",
       "│ layer_normalizatio… │ (<span style=\"color: #00d7ff; text-decoration-color: #00d7ff\">None</span>, <span style=\"color: #00af00; text-decoration-color: #00af00\">24</span>, <span style=\"color: #00af00; text-decoration-color: #00af00\">14</span>)    │         <span style=\"color: #00af00; text-decoration-color: #00af00\">28</span> │ conv1d_5[<span style=\"color: #00af00; text-decoration-color: #00af00\">0</span>][<span style=\"color: #00af00; text-decoration-color: #00af00\">0</span>]    │\n",
       "│ (<span style=\"color: #0087ff; text-decoration-color: #0087ff\">LayerNormalizatio…</span> │                   │            │                   │\n",
       "├─────────────────────┼───────────────────┼────────────┼───────────────────┤\n",
       "│ add_5 (<span style=\"color: #0087ff; text-decoration-color: #0087ff\">Add</span>)         │ (<span style=\"color: #00d7ff; text-decoration-color: #00d7ff\">None</span>, <span style=\"color: #00af00; text-decoration-color: #00af00\">24</span>, <span style=\"color: #00af00; text-decoration-color: #00af00\">14</span>)    │          <span style=\"color: #00af00; text-decoration-color: #00af00\">0</span> │ layer_normalizat… │\n",
       "│                     │                   │            │ add_4[<span style=\"color: #00af00; text-decoration-color: #00af00\">0</span>][<span style=\"color: #00af00; text-decoration-color: #00af00\">0</span>]       │\n",
       "├─────────────────────┼───────────────────┼────────────┼───────────────────┤\n",
       "│ multi_head_attenti… │ (<span style=\"color: #00d7ff; text-decoration-color: #00d7ff\">None</span>, <span style=\"color: #00af00; text-decoration-color: #00af00\">24</span>, <span style=\"color: #00af00; text-decoration-color: #00af00\">14</span>)    │     <span style=\"color: #00af00; text-decoration-color: #00af00\">30,222</span> │ add_5[<span style=\"color: #00af00; text-decoration-color: #00af00\">0</span>][<span style=\"color: #00af00; text-decoration-color: #00af00\">0</span>],      │\n",
       "│ (<span style=\"color: #0087ff; text-decoration-color: #0087ff\">MultiHeadAttentio…</span> │                   │            │ add_5[<span style=\"color: #00af00; text-decoration-color: #00af00\">0</span>][<span style=\"color: #00af00; text-decoration-color: #00af00\">0</span>]       │\n",
       "├─────────────────────┼───────────────────┼────────────┼───────────────────┤\n",
       "│ dropout_11          │ (<span style=\"color: #00d7ff; text-decoration-color: #00d7ff\">None</span>, <span style=\"color: #00af00; text-decoration-color: #00af00\">24</span>, <span style=\"color: #00af00; text-decoration-color: #00af00\">14</span>)    │          <span style=\"color: #00af00; text-decoration-color: #00af00\">0</span> │ multi_head_atten… │\n",
       "│ (<span style=\"color: #0087ff; text-decoration-color: #0087ff\">Dropout</span>)           │                   │            │                   │\n",
       "├─────────────────────┼───────────────────┼────────────┼───────────────────┤\n",
       "│ layer_normalizatio… │ (<span style=\"color: #00d7ff; text-decoration-color: #00d7ff\">None</span>, <span style=\"color: #00af00; text-decoration-color: #00af00\">24</span>, <span style=\"color: #00af00; text-decoration-color: #00af00\">14</span>)    │         <span style=\"color: #00af00; text-decoration-color: #00af00\">28</span> │ dropout_11[<span style=\"color: #00af00; text-decoration-color: #00af00\">0</span>][<span style=\"color: #00af00; text-decoration-color: #00af00\">0</span>]  │\n",
       "│ (<span style=\"color: #0087ff; text-decoration-color: #0087ff\">LayerNormalizatio…</span> │                   │            │                   │\n",
       "├─────────────────────┼───────────────────┼────────────┼───────────────────┤\n",
       "│ add_6 (<span style=\"color: #0087ff; text-decoration-color: #0087ff\">Add</span>)         │ (<span style=\"color: #00d7ff; text-decoration-color: #00d7ff\">None</span>, <span style=\"color: #00af00; text-decoration-color: #00af00\">24</span>, <span style=\"color: #00af00; text-decoration-color: #00af00\">14</span>)    │          <span style=\"color: #00af00; text-decoration-color: #00af00\">0</span> │ layer_normalizat… │\n",
       "│                     │                   │            │ add_5[<span style=\"color: #00af00; text-decoration-color: #00af00\">0</span>][<span style=\"color: #00af00; text-decoration-color: #00af00\">0</span>]       │\n",
       "├─────────────────────┼───────────────────┼────────────┼───────────────────┤\n",
       "│ conv1d_6 (<span style=\"color: #0087ff; text-decoration-color: #0087ff\">Conv1D</span>)   │ (<span style=\"color: #00d7ff; text-decoration-color: #00d7ff\">None</span>, <span style=\"color: #00af00; text-decoration-color: #00af00\">24</span>, <span style=\"color: #00af00; text-decoration-color: #00af00\">128</span>)   │      <span style=\"color: #00af00; text-decoration-color: #00af00\">1,920</span> │ add_6[<span style=\"color: #00af00; text-decoration-color: #00af00\">0</span>][<span style=\"color: #00af00; text-decoration-color: #00af00\">0</span>]       │\n",
       "├─────────────────────┼───────────────────┼────────────┼───────────────────┤\n",
       "│ dropout_12          │ (<span style=\"color: #00d7ff; text-decoration-color: #00d7ff\">None</span>, <span style=\"color: #00af00; text-decoration-color: #00af00\">24</span>, <span style=\"color: #00af00; text-decoration-color: #00af00\">128</span>)   │          <span style=\"color: #00af00; text-decoration-color: #00af00\">0</span> │ conv1d_6[<span style=\"color: #00af00; text-decoration-color: #00af00\">0</span>][<span style=\"color: #00af00; text-decoration-color: #00af00\">0</span>]    │\n",
       "│ (<span style=\"color: #0087ff; text-decoration-color: #0087ff\">Dropout</span>)           │                   │            │                   │\n",
       "├─────────────────────┼───────────────────┼────────────┼───────────────────┤\n",
       "│ conv1d_7 (<span style=\"color: #0087ff; text-decoration-color: #0087ff\">Conv1D</span>)   │ (<span style=\"color: #00d7ff; text-decoration-color: #00d7ff\">None</span>, <span style=\"color: #00af00; text-decoration-color: #00af00\">24</span>, <span style=\"color: #00af00; text-decoration-color: #00af00\">14</span>)    │      <span style=\"color: #00af00; text-decoration-color: #00af00\">1,806</span> │ dropout_12[<span style=\"color: #00af00; text-decoration-color: #00af00\">0</span>][<span style=\"color: #00af00; text-decoration-color: #00af00\">0</span>]  │\n",
       "├─────────────────────┼───────────────────┼────────────┼───────────────────┤\n",
       "│ layer_normalizatio… │ (<span style=\"color: #00d7ff; text-decoration-color: #00d7ff\">None</span>, <span style=\"color: #00af00; text-decoration-color: #00af00\">24</span>, <span style=\"color: #00af00; text-decoration-color: #00af00\">14</span>)    │         <span style=\"color: #00af00; text-decoration-color: #00af00\">28</span> │ conv1d_7[<span style=\"color: #00af00; text-decoration-color: #00af00\">0</span>][<span style=\"color: #00af00; text-decoration-color: #00af00\">0</span>]    │\n",
       "│ (<span style=\"color: #0087ff; text-decoration-color: #0087ff\">LayerNormalizatio…</span> │                   │            │                   │\n",
       "├─────────────────────┼───────────────────┼────────────┼───────────────────┤\n",
       "│ add_7 (<span style=\"color: #0087ff; text-decoration-color: #0087ff\">Add</span>)         │ (<span style=\"color: #00d7ff; text-decoration-color: #00d7ff\">None</span>, <span style=\"color: #00af00; text-decoration-color: #00af00\">24</span>, <span style=\"color: #00af00; text-decoration-color: #00af00\">14</span>)    │          <span style=\"color: #00af00; text-decoration-color: #00af00\">0</span> │ layer_normalizat… │\n",
       "│                     │                   │            │ add_6[<span style=\"color: #00af00; text-decoration-color: #00af00\">0</span>][<span style=\"color: #00af00; text-decoration-color: #00af00\">0</span>]       │\n",
       "├─────────────────────┼───────────────────┼────────────┼───────────────────┤\n",
       "│ global_average_poo… │ (<span style=\"color: #00d7ff; text-decoration-color: #00d7ff\">None</span>, <span style=\"color: #00af00; text-decoration-color: #00af00\">14</span>)        │          <span style=\"color: #00af00; text-decoration-color: #00af00\">0</span> │ add_7[<span style=\"color: #00af00; text-decoration-color: #00af00\">0</span>][<span style=\"color: #00af00; text-decoration-color: #00af00\">0</span>]       │\n",
       "│ (<span style=\"color: #0087ff; text-decoration-color: #0087ff\">GlobalAveragePool…</span> │                   │            │                   │\n",
       "├─────────────────────┼───────────────────┼────────────┼───────────────────┤\n",
       "│ dense_2 (<span style=\"color: #0087ff; text-decoration-color: #0087ff\">Dense</span>)     │ (<span style=\"color: #00d7ff; text-decoration-color: #00d7ff\">None</span>, <span style=\"color: #00af00; text-decoration-color: #00af00\">64</span>)        │        <span style=\"color: #00af00; text-decoration-color: #00af00\">960</span> │ global_average_p… │\n",
       "├─────────────────────┼───────────────────┼────────────┼───────────────────┤\n",
       "│ dropout_13          │ (<span style=\"color: #00d7ff; text-decoration-color: #00d7ff\">None</span>, <span style=\"color: #00af00; text-decoration-color: #00af00\">64</span>)        │          <span style=\"color: #00af00; text-decoration-color: #00af00\">0</span> │ dense_2[<span style=\"color: #00af00; text-decoration-color: #00af00\">0</span>][<span style=\"color: #00af00; text-decoration-color: #00af00\">0</span>]     │\n",
       "│ (<span style=\"color: #0087ff; text-decoration-color: #0087ff\">Dropout</span>)           │                   │            │                   │\n",
       "├─────────────────────┼───────────────────┼────────────┼───────────────────┤\n",
       "│ dense_3 (<span style=\"color: #0087ff; text-decoration-color: #0087ff\">Dense</span>)     │ (<span style=\"color: #00d7ff; text-decoration-color: #00d7ff\">None</span>, <span style=\"color: #00af00; text-decoration-color: #00af00\">1</span>)         │         <span style=\"color: #00af00; text-decoration-color: #00af00\">65</span> │ dropout_13[<span style=\"color: #00af00; text-decoration-color: #00af00\">0</span>][<span style=\"color: #00af00; text-decoration-color: #00af00\">0</span>]  │\n",
       "└─────────────────────┴───────────────────┴────────────┴───────────────────┘\n",
       "</pre>\n"
      ],
      "text/plain": [
       "┏━━━━━━━━━━━━━━━━━━━━━┳━━━━━━━━━━━━━━━━━━━┳━━━━━━━━━━━━┳━━━━━━━━━━━━━━━━━━━┓\n",
       "┃\u001b[1m \u001b[0m\u001b[1mLayer (type)       \u001b[0m\u001b[1m \u001b[0m┃\u001b[1m \u001b[0m\u001b[1mOutput Shape     \u001b[0m\u001b[1m \u001b[0m┃\u001b[1m \u001b[0m\u001b[1m   Param #\u001b[0m\u001b[1m \u001b[0m┃\u001b[1m \u001b[0m\u001b[1mConnected to     \u001b[0m\u001b[1m \u001b[0m┃\n",
       "┡━━━━━━━━━━━━━━━━━━━━━╇━━━━━━━━━━━━━━━━━━━╇━━━━━━━━━━━━╇━━━━━━━━━━━━━━━━━━━┩\n",
       "│ input_layer_1       │ (\u001b[38;5;45mNone\u001b[0m, \u001b[38;5;34m24\u001b[0m, \u001b[38;5;34m14\u001b[0m)    │          \u001b[38;5;34m0\u001b[0m │ -                 │\n",
       "│ (\u001b[38;5;33mInputLayer\u001b[0m)        │                   │            │                   │\n",
       "├─────────────────────┼───────────────────┼────────────┼───────────────────┤\n",
       "│ multi_head_attenti… │ (\u001b[38;5;45mNone\u001b[0m, \u001b[38;5;34m24\u001b[0m, \u001b[38;5;34m14\u001b[0m)    │     \u001b[38;5;34m30,222\u001b[0m │ input_layer_1[\u001b[38;5;34m0\u001b[0m]… │\n",
       "│ (\u001b[38;5;33mMultiHeadAttentio…\u001b[0m │                   │            │ input_layer_1[\u001b[38;5;34m0\u001b[0m]… │\n",
       "├─────────────────────┼───────────────────┼────────────┼───────────────────┤\n",
       "│ dropout_8 (\u001b[38;5;33mDropout\u001b[0m) │ (\u001b[38;5;45mNone\u001b[0m, \u001b[38;5;34m24\u001b[0m, \u001b[38;5;34m14\u001b[0m)    │          \u001b[38;5;34m0\u001b[0m │ multi_head_atten… │\n",
       "├─────────────────────┼───────────────────┼────────────┼───────────────────┤\n",
       "│ layer_normalizatio… │ (\u001b[38;5;45mNone\u001b[0m, \u001b[38;5;34m24\u001b[0m, \u001b[38;5;34m14\u001b[0m)    │         \u001b[38;5;34m28\u001b[0m │ dropout_8[\u001b[38;5;34m0\u001b[0m][\u001b[38;5;34m0\u001b[0m]   │\n",
       "│ (\u001b[38;5;33mLayerNormalizatio…\u001b[0m │                   │            │                   │\n",
       "├─────────────────────┼───────────────────┼────────────┼───────────────────┤\n",
       "│ add_4 (\u001b[38;5;33mAdd\u001b[0m)         │ (\u001b[38;5;45mNone\u001b[0m, \u001b[38;5;34m24\u001b[0m, \u001b[38;5;34m14\u001b[0m)    │          \u001b[38;5;34m0\u001b[0m │ layer_normalizat… │\n",
       "│                     │                   │            │ input_layer_1[\u001b[38;5;34m0\u001b[0m]… │\n",
       "├─────────────────────┼───────────────────┼────────────┼───────────────────┤\n",
       "│ conv1d_4 (\u001b[38;5;33mConv1D\u001b[0m)   │ (\u001b[38;5;45mNone\u001b[0m, \u001b[38;5;34m24\u001b[0m, \u001b[38;5;34m128\u001b[0m)   │      \u001b[38;5;34m1,920\u001b[0m │ add_4[\u001b[38;5;34m0\u001b[0m][\u001b[38;5;34m0\u001b[0m]       │\n",
       "├─────────────────────┼───────────────────┼────────────┼───────────────────┤\n",
       "│ dropout_9 (\u001b[38;5;33mDropout\u001b[0m) │ (\u001b[38;5;45mNone\u001b[0m, \u001b[38;5;34m24\u001b[0m, \u001b[38;5;34m128\u001b[0m)   │          \u001b[38;5;34m0\u001b[0m │ conv1d_4[\u001b[38;5;34m0\u001b[0m][\u001b[38;5;34m0\u001b[0m]    │\n",
       "├─────────────────────┼───────────────────┼────────────┼───────────────────┤\n",
       "│ conv1d_5 (\u001b[38;5;33mConv1D\u001b[0m)   │ (\u001b[38;5;45mNone\u001b[0m, \u001b[38;5;34m24\u001b[0m, \u001b[38;5;34m14\u001b[0m)    │      \u001b[38;5;34m1,806\u001b[0m │ dropout_9[\u001b[38;5;34m0\u001b[0m][\u001b[38;5;34m0\u001b[0m]   │\n",
       "├─────────────────────┼───────────────────┼────────────┼───────────────────┤\n",
       "│ layer_normalizatio… │ (\u001b[38;5;45mNone\u001b[0m, \u001b[38;5;34m24\u001b[0m, \u001b[38;5;34m14\u001b[0m)    │         \u001b[38;5;34m28\u001b[0m │ conv1d_5[\u001b[38;5;34m0\u001b[0m][\u001b[38;5;34m0\u001b[0m]    │\n",
       "│ (\u001b[38;5;33mLayerNormalizatio…\u001b[0m │                   │            │                   │\n",
       "├─────────────────────┼───────────────────┼────────────┼───────────────────┤\n",
       "│ add_5 (\u001b[38;5;33mAdd\u001b[0m)         │ (\u001b[38;5;45mNone\u001b[0m, \u001b[38;5;34m24\u001b[0m, \u001b[38;5;34m14\u001b[0m)    │          \u001b[38;5;34m0\u001b[0m │ layer_normalizat… │\n",
       "│                     │                   │            │ add_4[\u001b[38;5;34m0\u001b[0m][\u001b[38;5;34m0\u001b[0m]       │\n",
       "├─────────────────────┼───────────────────┼────────────┼───────────────────┤\n",
       "│ multi_head_attenti… │ (\u001b[38;5;45mNone\u001b[0m, \u001b[38;5;34m24\u001b[0m, \u001b[38;5;34m14\u001b[0m)    │     \u001b[38;5;34m30,222\u001b[0m │ add_5[\u001b[38;5;34m0\u001b[0m][\u001b[38;5;34m0\u001b[0m],      │\n",
       "│ (\u001b[38;5;33mMultiHeadAttentio…\u001b[0m │                   │            │ add_5[\u001b[38;5;34m0\u001b[0m][\u001b[38;5;34m0\u001b[0m]       │\n",
       "├─────────────────────┼───────────────────┼────────────┼───────────────────┤\n",
       "│ dropout_11          │ (\u001b[38;5;45mNone\u001b[0m, \u001b[38;5;34m24\u001b[0m, \u001b[38;5;34m14\u001b[0m)    │          \u001b[38;5;34m0\u001b[0m │ multi_head_atten… │\n",
       "│ (\u001b[38;5;33mDropout\u001b[0m)           │                   │            │                   │\n",
       "├─────────────────────┼───────────────────┼────────────┼───────────────────┤\n",
       "│ layer_normalizatio… │ (\u001b[38;5;45mNone\u001b[0m, \u001b[38;5;34m24\u001b[0m, \u001b[38;5;34m14\u001b[0m)    │         \u001b[38;5;34m28\u001b[0m │ dropout_11[\u001b[38;5;34m0\u001b[0m][\u001b[38;5;34m0\u001b[0m]  │\n",
       "│ (\u001b[38;5;33mLayerNormalizatio…\u001b[0m │                   │            │                   │\n",
       "├─────────────────────┼───────────────────┼────────────┼───────────────────┤\n",
       "│ add_6 (\u001b[38;5;33mAdd\u001b[0m)         │ (\u001b[38;5;45mNone\u001b[0m, \u001b[38;5;34m24\u001b[0m, \u001b[38;5;34m14\u001b[0m)    │          \u001b[38;5;34m0\u001b[0m │ layer_normalizat… │\n",
       "│                     │                   │            │ add_5[\u001b[38;5;34m0\u001b[0m][\u001b[38;5;34m0\u001b[0m]       │\n",
       "├─────────────────────┼───────────────────┼────────────┼───────────────────┤\n",
       "│ conv1d_6 (\u001b[38;5;33mConv1D\u001b[0m)   │ (\u001b[38;5;45mNone\u001b[0m, \u001b[38;5;34m24\u001b[0m, \u001b[38;5;34m128\u001b[0m)   │      \u001b[38;5;34m1,920\u001b[0m │ add_6[\u001b[38;5;34m0\u001b[0m][\u001b[38;5;34m0\u001b[0m]       │\n",
       "├─────────────────────┼───────────────────┼────────────┼───────────────────┤\n",
       "│ dropout_12          │ (\u001b[38;5;45mNone\u001b[0m, \u001b[38;5;34m24\u001b[0m, \u001b[38;5;34m128\u001b[0m)   │          \u001b[38;5;34m0\u001b[0m │ conv1d_6[\u001b[38;5;34m0\u001b[0m][\u001b[38;5;34m0\u001b[0m]    │\n",
       "│ (\u001b[38;5;33mDropout\u001b[0m)           │                   │            │                   │\n",
       "├─────────────────────┼───────────────────┼────────────┼───────────────────┤\n",
       "│ conv1d_7 (\u001b[38;5;33mConv1D\u001b[0m)   │ (\u001b[38;5;45mNone\u001b[0m, \u001b[38;5;34m24\u001b[0m, \u001b[38;5;34m14\u001b[0m)    │      \u001b[38;5;34m1,806\u001b[0m │ dropout_12[\u001b[38;5;34m0\u001b[0m][\u001b[38;5;34m0\u001b[0m]  │\n",
       "├─────────────────────┼───────────────────┼────────────┼───────────────────┤\n",
       "│ layer_normalizatio… │ (\u001b[38;5;45mNone\u001b[0m, \u001b[38;5;34m24\u001b[0m, \u001b[38;5;34m14\u001b[0m)    │         \u001b[38;5;34m28\u001b[0m │ conv1d_7[\u001b[38;5;34m0\u001b[0m][\u001b[38;5;34m0\u001b[0m]    │\n",
       "│ (\u001b[38;5;33mLayerNormalizatio…\u001b[0m │                   │            │                   │\n",
       "├─────────────────────┼───────────────────┼────────────┼───────────────────┤\n",
       "│ add_7 (\u001b[38;5;33mAdd\u001b[0m)         │ (\u001b[38;5;45mNone\u001b[0m, \u001b[38;5;34m24\u001b[0m, \u001b[38;5;34m14\u001b[0m)    │          \u001b[38;5;34m0\u001b[0m │ layer_normalizat… │\n",
       "│                     │                   │            │ add_6[\u001b[38;5;34m0\u001b[0m][\u001b[38;5;34m0\u001b[0m]       │\n",
       "├─────────────────────┼───────────────────┼────────────┼───────────────────┤\n",
       "│ global_average_poo… │ (\u001b[38;5;45mNone\u001b[0m, \u001b[38;5;34m14\u001b[0m)        │          \u001b[38;5;34m0\u001b[0m │ add_7[\u001b[38;5;34m0\u001b[0m][\u001b[38;5;34m0\u001b[0m]       │\n",
       "│ (\u001b[38;5;33mGlobalAveragePool…\u001b[0m │                   │            │                   │\n",
       "├─────────────────────┼───────────────────┼────────────┼───────────────────┤\n",
       "│ dense_2 (\u001b[38;5;33mDense\u001b[0m)     │ (\u001b[38;5;45mNone\u001b[0m, \u001b[38;5;34m64\u001b[0m)        │        \u001b[38;5;34m960\u001b[0m │ global_average_p… │\n",
       "├─────────────────────┼───────────────────┼────────────┼───────────────────┤\n",
       "│ dropout_13          │ (\u001b[38;5;45mNone\u001b[0m, \u001b[38;5;34m64\u001b[0m)        │          \u001b[38;5;34m0\u001b[0m │ dense_2[\u001b[38;5;34m0\u001b[0m][\u001b[38;5;34m0\u001b[0m]     │\n",
       "│ (\u001b[38;5;33mDropout\u001b[0m)           │                   │            │                   │\n",
       "├─────────────────────┼───────────────────┼────────────┼───────────────────┤\n",
       "│ dense_3 (\u001b[38;5;33mDense\u001b[0m)     │ (\u001b[38;5;45mNone\u001b[0m, \u001b[38;5;34m1\u001b[0m)         │         \u001b[38;5;34m65\u001b[0m │ dropout_13[\u001b[38;5;34m0\u001b[0m][\u001b[38;5;34m0\u001b[0m]  │\n",
       "└─────────────────────┴───────────────────┴────────────┴───────────────────┘\n"
      ]
     },
     "metadata": {},
     "output_type": "display_data"
    },
    {
     "data": {
      "text/html": [
       "<pre style=\"white-space:pre;overflow-x:auto;line-height:normal;font-family:Menlo,'DejaVu Sans Mono',consolas,'Courier New',monospace\"><span style=\"font-weight: bold\"> Total params: </span><span style=\"color: #00af00; text-decoration-color: #00af00\">69,033</span> (269.66 KB)\n",
       "</pre>\n"
      ],
      "text/plain": [
       "\u001b[1m Total params: \u001b[0m\u001b[38;5;34m69,033\u001b[0m (269.66 KB)\n"
      ]
     },
     "metadata": {},
     "output_type": "display_data"
    },
    {
     "data": {
      "text/html": [
       "<pre style=\"white-space:pre;overflow-x:auto;line-height:normal;font-family:Menlo,'DejaVu Sans Mono',consolas,'Courier New',monospace\"><span style=\"font-weight: bold\"> Trainable params: </span><span style=\"color: #00af00; text-decoration-color: #00af00\">69,033</span> (269.66 KB)\n",
       "</pre>\n"
      ],
      "text/plain": [
       "\u001b[1m Trainable params: \u001b[0m\u001b[38;5;34m69,033\u001b[0m (269.66 KB)\n"
      ]
     },
     "metadata": {},
     "output_type": "display_data"
    },
    {
     "data": {
      "text/html": [
       "<pre style=\"white-space:pre;overflow-x:auto;line-height:normal;font-family:Menlo,'DejaVu Sans Mono',consolas,'Courier New',monospace\"><span style=\"font-weight: bold\"> Non-trainable params: </span><span style=\"color: #00af00; text-decoration-color: #00af00\">0</span> (0.00 B)\n",
       "</pre>\n"
      ],
      "text/plain": [
       "\u001b[1m Non-trainable params: \u001b[0m\u001b[38;5;34m0\u001b[0m (0.00 B)\n"
      ]
     },
     "metadata": {},
     "output_type": "display_data"
    },
    {
     "name": "stdout",
     "output_type": "stream",
     "text": [
      "Epoch 1/20\n"
     ]
    },
    {
     "name": "stderr",
     "output_type": "stream",
     "text": [
      "2025-04-23 02:35:44.239941: W external/local_xla/xla/tsl/framework/cpu_allocator_impl.cc:83] Allocation of 361406976 exceeds 10% of free system memory.\n"
     ]
    },
    {
     "name": "stdout",
     "output_type": "stream",
     "text": [
      "\u001b[1m4201/4202\u001b[0m \u001b[32m━━━━━━━━━━━━━━━━━━━\u001b[0m\u001b[37m━\u001b[0m \u001b[1m0s\u001b[0m 36ms/step - loss: 29.3624 - mae: 4.0701"
     ]
    },
    {
     "name": "stderr",
     "output_type": "stream",
     "text": [
      "2025-04-23 02:38:18.128999: W external/local_xla/xla/tsl/framework/cpu_allocator_impl.cc:83] Allocation of 90351744 exceeds 10% of free system memory.\n"
     ]
    },
    {
     "name": "stdout",
     "output_type": "stream",
     "text": [
      "\u001b[1m4202/4202\u001b[0m \u001b[32m━━━━━━━━━━━━━━━━━━━━\u001b[0m\u001b[37m\u001b[0m \u001b[1m167s\u001b[0m 39ms/step - loss: 29.3588 - mae: 4.0698 - val_loss: 16.7247 - val_mae: 3.2190\n",
      "Epoch 2/20\n",
      "\u001b[1m4202/4202\u001b[0m \u001b[32m━━━━━━━━━━━━━━━━━━━━\u001b[0m\u001b[37m\u001b[0m \u001b[1m161s\u001b[0m 38ms/step - loss: 18.3177 - mae: 3.3584 - val_loss: 15.7864 - val_mae: 3.1642\n",
      "Epoch 3/20\n",
      "\u001b[1m4202/4202\u001b[0m \u001b[32m━━━━━━━━━━━━━━━━━━━━\u001b[0m\u001b[37m\u001b[0m \u001b[1m162s\u001b[0m 38ms/step - loss: 17.2884 - mae: 3.2590 - val_loss: 14.6108 - val_mae: 3.0121\n",
      "Epoch 4/20\n",
      "\u001b[1m4202/4202\u001b[0m \u001b[32m━━━━━━━━━━━━━━━━━━━━\u001b[0m\u001b[37m\u001b[0m \u001b[1m162s\u001b[0m 39ms/step - loss: 16.5607 - mae: 3.1829 - val_loss: 14.2301 - val_mae: 2.9867\n",
      "Epoch 5/20\n",
      "\u001b[1m4202/4202\u001b[0m \u001b[32m━━━━━━━━━━━━━━━━━━━━\u001b[0m\u001b[37m\u001b[0m \u001b[1m162s\u001b[0m 39ms/step - loss: 15.8586 - mae: 3.1092 - val_loss: 13.1741 - val_mae: 2.8531\n",
      "Epoch 6/20\n",
      "\u001b[1m4202/4202\u001b[0m \u001b[32m━━━━━━━━━━━━━━━━━━━━\u001b[0m\u001b[37m\u001b[0m \u001b[1m161s\u001b[0m 38ms/step - loss: 15.1885 - mae: 3.0442 - val_loss: 12.7741 - val_mae: 2.8211\n",
      "Epoch 7/20\n",
      "\u001b[1m4202/4202\u001b[0m \u001b[32m━━━━━━━━━━━━━━━━━━━━\u001b[0m\u001b[37m\u001b[0m \u001b[1m162s\u001b[0m 38ms/step - loss: 14.6345 - mae: 2.9840 - val_loss: 12.8978 - val_mae: 2.8246\n",
      "Epoch 8/20\n",
      "\u001b[1m4202/4202\u001b[0m \u001b[32m━━━━━━━━━━━━━━━━━━━━\u001b[0m\u001b[37m\u001b[0m \u001b[1m161s\u001b[0m 38ms/step - loss: 14.0755 - mae: 2.9269 - val_loss: 11.5444 - val_mae: 2.6676\n",
      "Epoch 9/20\n",
      "\u001b[1m4202/4202\u001b[0m \u001b[32m━━━━━━━━━━━━━━━━━━━━\u001b[0m\u001b[37m\u001b[0m \u001b[1m162s\u001b[0m 38ms/step - loss: 13.6904 - mae: 2.8854 - val_loss: 11.6156 - val_mae: 2.6855\n",
      "Epoch 10/20\n",
      "\u001b[1m4202/4202\u001b[0m \u001b[32m━━━━━━━━━━━━━━━━━━━━\u001b[0m\u001b[37m\u001b[0m \u001b[1m161s\u001b[0m 38ms/step - loss: 13.4499 - mae: 2.8552 - val_loss: 11.0654 - val_mae: 2.6079\n",
      "Epoch 11/20\n",
      "\u001b[1m4202/4202\u001b[0m \u001b[32m━━━━━━━━━━━━━━━━━━━━\u001b[0m\u001b[37m\u001b[0m \u001b[1m162s\u001b[0m 39ms/step - loss: 13.1684 - mae: 2.8230 - val_loss: 10.9551 - val_mae: 2.6059\n",
      "Epoch 12/20\n",
      "\u001b[1m4202/4202\u001b[0m \u001b[32m━━━━━━━━━━━━━━━━━━━━\u001b[0m\u001b[37m\u001b[0m \u001b[1m162s\u001b[0m 39ms/step - loss: 12.9330 - mae: 2.7965 - val_loss: 10.4446 - val_mae: 2.5341\n",
      "Epoch 13/20\n",
      "\u001b[1m4202/4202\u001b[0m \u001b[32m━━━━━━━━━━━━━━━━━━━━\u001b[0m\u001b[37m\u001b[0m \u001b[1m162s\u001b[0m 39ms/step - loss: 12.6570 - mae: 2.7664 - val_loss: 10.4661 - val_mae: 2.5327\n",
      "Epoch 14/20\n",
      "\u001b[1m4202/4202\u001b[0m \u001b[32m━━━━━━━━━━━━━━━━━━━━\u001b[0m\u001b[37m\u001b[0m \u001b[1m163s\u001b[0m 39ms/step - loss: 12.4202 - mae: 2.7443 - val_loss: 10.0640 - val_mae: 2.4818\n",
      "Epoch 15/20\n",
      "\u001b[1m4202/4202\u001b[0m \u001b[32m━━━━━━━━━━━━━━━━━━━━\u001b[0m\u001b[37m\u001b[0m \u001b[1m163s\u001b[0m 39ms/step - loss: 12.2925 - mae: 2.7236 - val_loss: 9.9333 - val_mae: 2.4669\n",
      "Epoch 16/20\n",
      "\u001b[1m4202/4202\u001b[0m \u001b[32m━━━━━━━━━━━━━━━━━━━━\u001b[0m\u001b[37m\u001b[0m \u001b[1m163s\u001b[0m 39ms/step - loss: 12.0831 - mae: 2.7046 - val_loss: 9.7099 - val_mae: 2.4357\n",
      "Epoch 17/20\n",
      "\u001b[1m4202/4202\u001b[0m \u001b[32m━━━━━━━━━━━━━━━━━━━━\u001b[0m\u001b[37m\u001b[0m \u001b[1m163s\u001b[0m 39ms/step - loss: 11.9670 - mae: 2.6918 - val_loss: 10.0298 - val_mae: 2.4678\n",
      "Epoch 18/20\n",
      "\u001b[1m4202/4202\u001b[0m \u001b[32m━━━━━━━━━━━━━━━━━━━━\u001b[0m\u001b[37m\u001b[0m \u001b[1m163s\u001b[0m 39ms/step - loss: 11.7229 - mae: 2.6641 - val_loss: 9.5523 - val_mae: 2.4177\n",
      "Epoch 19/20\n",
      "\u001b[1m4202/4202\u001b[0m \u001b[32m━━━━━━━━━━━━━━━━━━━━\u001b[0m\u001b[37m\u001b[0m \u001b[1m163s\u001b[0m 39ms/step - loss: 11.5198 - mae: 2.6417 - val_loss: 9.5829 - val_mae: 2.4111\n",
      "Epoch 20/20\n",
      "\u001b[1m4202/4202\u001b[0m \u001b[32m━━━━━━━━━━━━━━━━━━━━\u001b[0m\u001b[37m\u001b[0m \u001b[1m163s\u001b[0m 39ms/step - loss: 11.4384 - mae: 2.6311 - val_loss: 9.1485 - val_mae: 2.3579\n",
      "\u001b[1m  23/2627\u001b[0m \u001b[37m━━━━━━━━━━━━━━━━━━━━\u001b[0m \u001b[1m18s\u001b[0m 7ms/step - loss: 10.1692 - mae: 2.3739"
     ]
    },
    {
     "name": "stderr",
     "output_type": "stream",
     "text": [
      "2025-04-23 03:29:50.883778: W external/local_xla/xla/tsl/framework/cpu_allocator_impl.cc:83] Allocation of 112940352 exceeds 10% of free system memory.\n"
     ]
    },
    {
     "name": "stdout",
     "output_type": "stream",
     "text": [
      "\u001b[1m2627/2627\u001b[0m \u001b[32m━━━━━━━━━━━━━━━━━━━━\u001b[0m\u001b[37m\u001b[0m \u001b[1m19s\u001b[0m 7ms/step - loss: 18.5085 - mae: 3.3450\n",
      "Test MAE: 3.22\n"
     ]
    }
   ],
   "source": [
    "input_shape = x_train.shape[1:]\n",
    "model = build_model(input_shape)\n",
    "\n",
    "model.compile(\n",
    "    loss=\"mse\",\n",
    "    optimizer=keras.optimizers.Adam(learning_rate=1e-4),\n",
    "    metrics=[\"mae\"]\n",
    ")\n",
    "\n",
    "model.summary()\n",
    "\n",
    "callbacks = [keras.callbacks.EarlyStopping(patience=10, restore_best_weights=True)]\n",
    "\n",
    "history = model.fit(\n",
    "    x_train, y_train,\n",
    "    validation_split=0.2,\n",
    "    epochs=20,\n",
    "    batch_size=64,\n",
    "    callbacks=callbacks\n",
    ")\n",
    "\n",
    "loss, mae = model.evaluate(x_test, y_test)\n",
    "print(f\"Test MAE: {mae:.2f}\")"
   ]
  }
 ],
 "metadata": {
  "accelerator": "TPU",
  "colab": {
   "gpuType": "V28",
   "provenance": [],
   "toc_visible": true
  },
  "kernelspec": {
   "display_name": ".venv",
   "language": "python",
   "name": "python3"
  },
  "language_info": {
   "codemirror_mode": {
    "name": "ipython",
    "version": 3
   },
   "file_extension": ".py",
   "mimetype": "text/x-python",
   "name": "python",
   "nbconvert_exporter": "python",
   "pygments_lexer": "ipython3",
   "version": "3.12.1"
  }
 },
 "nbformat": 4,
 "nbformat_minor": 1
}
